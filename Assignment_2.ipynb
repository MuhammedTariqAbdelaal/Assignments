{
 "cells": [
  {
   "cell_type": "markdown",
   "metadata": {
    "id": "Ui8LKXjlii3V"
   },
   "source": [
    "### 1) Write a program to print the maximum between two numbers. (one-line conditional statement)\n"
   ]
  },
  {
   "cell_type": "code",
   "execution_count": 1,
   "metadata": {},
   "outputs": [
    {
     "name": "stdout",
     "output_type": "stream",
     "text": [
      "Enter the first number: 5\n",
      "Enter the second number: 9\n",
      "The max is 9.0\n"
     ]
    }
   ],
   "source": [
    "first = float(input(\"Enter the first number: \"))\n",
    "second = float(input(\"Enter the second number: \"))\n",
    "print(f\"The max is {first}\") if first > second else print(f\"The max is {second}\")"
   ]
  },
  {
   "cell_type": "markdown",
   "metadata": {
    "id": "xQB_yP4rirZS"
   },
   "source": [
    "### 2) Write a program to find the maximum between three numbers.\n"
   ]
  },
  {
   "cell_type": "code",
   "execution_count": 4,
   "metadata": {},
   "outputs": [
    {
     "name": "stdout",
     "output_type": "stream",
     "text": [
      "Enter the first number: 3\n",
      "Enter the second number: 2\n",
      "Enter the third number: 1\n",
      "The max is 3.0\n"
     ]
    }
   ],
   "source": [
    "first = float(input(\"Enter the first number: \"))\n",
    "second = float(input(\"Enter the second number: \"))\n",
    "third = float(input(\"Enter the third number: \"))\n",
    "\n",
    "if first > second:\n",
    "    if first > third:\n",
    "        print(f\"The max is {first}\")\n",
    "    else:\n",
    "        print(f\"The max is {third}\")\n",
    "else:\n",
    "    if second > third:\n",
    "        print(f\"The max is {second}\")\n",
    "    else:\n",
    "        print(f\"The max is {third}\")"
   ]
  },
  {
   "cell_type": "markdown",
   "metadata": {
    "id": "di3xEq8mjBRK"
   },
   "source": [
    "### 3) Write a program to check whether a number is negative, or positive (one-line conditional statement)\n"
   ]
  },
  {
   "cell_type": "code",
   "execution_count": 6,
   "metadata": {},
   "outputs": [
    {
     "name": "stdout",
     "output_type": "stream",
     "text": [
      "Please enter a number other than 0: -5\n",
      "The number you have entered is negative.\n"
     ]
    }
   ],
   "source": [
    "number = float(input(\"Please enter a number other than 0: \"))\n",
    "print(\"The number you have entered is positive.\") if number > 0 else print(\"The number you have entered is negative.\")"
   ]
  },
  {
   "cell_type": "markdown",
   "metadata": {
    "id": "grc5Gk_RjFBe"
   },
   "source": [
    "### 4) Write a  program to check whether a number is even or odd  (one-line statement).\n"
   ]
  },
  {
   "cell_type": "code",
   "execution_count": 8,
   "metadata": {},
   "outputs": [
    {
     "name": "stdout",
     "output_type": "stream",
     "text": [
      "Please enter a number: 6\n",
      "The number you have entered is even.\n"
     ]
    }
   ],
   "source": [
    "number = float(input(\"Please enter a number: \"))\n",
    "print(\"The number you have entered is even.\") if number%2 == 0 else print(\"The number you have entered is odd.\")"
   ]
  },
  {
   "cell_type": "markdown",
   "metadata": {
    "id": "-J3UtjpIjJPv"
   },
   "source": [
    "### 5) Write a  program to check whether a year is a leap year or not. (one-line conditional statement).\n"
   ]
  },
  {
   "cell_type": "code",
   "execution_count": 10,
   "metadata": {},
   "outputs": [
    {
     "name": "stdout",
     "output_type": "stream",
     "text": [
      "Is the number of days in Febraury this year 28 or 29: 28\n",
      "It is not a leap year\n"
     ]
    }
   ],
   "source": [
    "feb = float(input(\"Is the number of days in Febraury this year 28 or 29: \"))\n",
    "print(\"It is a leap year\") if feb == 29 else print(\"It is not a leap year\") "
   ]
  },
  {
   "cell_type": "markdown",
   "metadata": {
    "id": "JeN4yaIMjNlC"
   },
   "source": [
    "### 6) Write a  program to store the weekdays in a list and access the week day and print it by index.\n"
   ]
  },
  {
   "cell_type": "code",
   "execution_count": 14,
   "metadata": {},
   "outputs": [
    {
     "name": "stdout",
     "output_type": "stream",
     "text": [
      "Saturday\n",
      "Sunday\n",
      "Monday\n",
      "Tuesday\n",
      "Wednesday\n",
      "Thursday\n",
      "Friday\n"
     ]
    }
   ],
   "source": [
    "Weekdays = [\"Saturday\",\"Sunday\",\"Monday\",\"Tuesday\",\"Wednesday\",\"Thursday\",\"Friday\"]\n",
    "for x in Weekdays:\n",
    "    print(x)"
   ]
  },
  {
   "cell_type": "markdown",
   "metadata": {
    "id": "ST7uKJmtjYh1"
   },
   "source": [
    "### 7) Write a  program to print all alphabets from a to z using while loop"
   ]
  },
  {
   "cell_type": "code",
   "execution_count": 1,
   "metadata": {},
   "outputs": [
    {
     "name": "stdout",
     "output_type": "stream",
     "text": [
      "a\n",
      "b\n",
      "c\n",
      "d\n",
      "e\n",
      "f\n",
      "g\n",
      "h\n",
      "i\n",
      "j\n",
      "k\n",
      "l\n",
      "m\n",
      "n\n",
      "o\n",
      "p\n",
      "q\n",
      "r\n",
      "s\n",
      "t\n",
      "u\n",
      "v\n",
      "w\n",
      "x\n",
      "y\n",
      "z\n"
     ]
    }
   ],
   "source": [
    "letter = 'a'  # Starting letter\n",
    "\n",
    "while letter <= 'z':\n",
    "    print(letter)\n",
    "    letter = chr(ord(letter) + 1)  # Increment the letter by one\n"
   ]
  },
  {
   "cell_type": "markdown",
   "metadata": {
    "id": "PkPPTrivjran"
   },
   "source": [
    "### 8)Write a program to sotre numbers in the List and print its reverse"
   ]
  },
  {
   "cell_type": "code",
   "execution_count": 26,
   "metadata": {},
   "outputs": [
    {
     "name": "stdout",
     "output_type": "stream",
     "text": [
      "Please enter a bunch of numbers: 435732481\n",
      "<class 'str'>\n",
      "['4', '3', '5', '7', '3', '2', '4', '8', '1']\n"
     ]
    }
   ],
   "source": [
    "Numbers_entered = input(\"Please enter a bunch of numbers: \")\n",
    "Numbers = list(Numbers_entered)\n",
    "print(Numbers)\n",
    "Numbers.reverse()"
   ]
  },
  {
   "cell_type": "markdown",
   "metadata": {
    "id": "2JoHNIaCj7fR"
   },
   "source": [
    "### 9) Write a program to print the multiplcation table of any number"
   ]
  },
  {
   "cell_type": "code",
   "execution_count": 28,
   "metadata": {},
   "outputs": [
    {
     "name": "stdout",
     "output_type": "stream",
     "text": [
      "Please enter a number to present the multiplication tanle for it: 9\n",
      "0\n",
      "9\n",
      "18\n",
      "27\n",
      "36\n",
      "45\n",
      "54\n",
      "63\n",
      "72\n",
      "81\n",
      "90\n",
      "99\n",
      "108\n"
     ]
    }
   ],
   "source": [
    "number = int(input(\"Please enter a number to present the multiplication tanle for it: \"))\n",
    "for x in range(13):\n",
    "    print(number * x)"
   ]
  },
  {
   "cell_type": "markdown",
   "metadata": {
    "id": "WTIX9yh1kLs-"
   },
   "source": [
    "### 10)Write a program to print all even numbers between 1 to 100.(using while loop)"
   ]
  },
  {
   "cell_type": "code",
   "execution_count": 1,
   "metadata": {
    "id": "i5fTGY3Qib9Y"
   },
   "outputs": [
    {
     "name": "stdout",
     "output_type": "stream",
     "text": [
      "100\n",
      "98\n",
      "96\n",
      "94\n",
      "92\n",
      "90\n",
      "88\n",
      "86\n",
      "84\n",
      "82\n",
      "80\n",
      "78\n",
      "76\n",
      "74\n",
      "72\n",
      "70\n",
      "68\n",
      "66\n",
      "64\n",
      "62\n",
      "60\n",
      "58\n",
      "56\n",
      "54\n",
      "52\n",
      "50\n",
      "48\n",
      "46\n",
      "44\n",
      "42\n",
      "40\n",
      "38\n",
      "36\n",
      "34\n",
      "32\n",
      "30\n",
      "28\n",
      "26\n",
      "24\n",
      "22\n",
      "20\n",
      "18\n",
      "16\n",
      "14\n",
      "12\n",
      "10\n",
      "8\n",
      "6\n",
      "4\n",
      "2\n"
     ]
    }
   ],
   "source": [
    "x = 100\n",
    "while x> 0:\n",
    "    if x % 2 == 0:\n",
    "        print(x)\n",
    "    x -= 1\n",
    "   "
   ]
  }
 ],
 "metadata": {
  "colab": {
   "private_outputs": true,
   "provenance": []
  },
  "kernelspec": {
   "display_name": "Python 3 (ipykernel)",
   "language": "python",
   "name": "python3"
  },
  "language_info": {
   "codemirror_mode": {
    "name": "ipython",
    "version": 3
   },
   "file_extension": ".py",
   "mimetype": "text/x-python",
   "name": "python",
   "nbconvert_exporter": "python",
   "pygments_lexer": "ipython3",
   "version": "3.11.5"
  }
 },
 "nbformat": 4,
 "nbformat_minor": 1
}
