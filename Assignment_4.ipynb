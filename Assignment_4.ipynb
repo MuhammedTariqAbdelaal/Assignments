{
 "cells": [
  {
   "cell_type": "markdown",
   "metadata": {
    "id": "2a0y9sz6Znvf"
   },
   "source": [
    "### Create a simple class names calculator"
   ]
  },
  {
   "cell_type": "code",
   "execution_count": 1,
   "metadata": {
    "scrolled": true
   },
   "outputs": [
    {
     "name": "stdout",
     "output_type": "stream",
     "text": [
      "This is a class called calculator\n"
     ]
    }
   ],
   "source": [
    "class Calculator():\n",
    "    def info():\n",
    "        print(\"This is a class called calculator\")\n",
    "\n",
    "    \n",
    "Calculator.info()"
   ]
  },
  {
   "cell_type": "markdown",
   "metadata": {
    "id": "h-9hbnhMZrdV"
   },
   "source": [
    "### Create a constructor that prints Welcome message"
   ]
  },
  {
   "cell_type": "code",
   "execution_count": 2,
   "metadata": {},
   "outputs": [
    {
     "data": {
      "text/plain": [
       "'Hello reader'"
      ]
     },
     "execution_count": 2,
     "metadata": {},
     "output_type": "execute_result"
    }
   ],
   "source": [
    "class WelcomeMsg():\n",
    "    def __init__(self,Welcome):\n",
    "        self.Welcome = Welcome\n",
    "        \n",
    "msg = WelcomeMsg(\"Hello reader\")\n",
    "msg.Welcome"
   ]
  },
  {
   "cell_type": "markdown",
   "metadata": {
    "id": "CciUtqOgZtr9"
   },
   "source": [
    "###  Add 2 methods to the class sum & mull"
   ]
  },
  {
   "cell_type": "code",
   "execution_count": 3,
   "metadata": {},
   "outputs": [
    {
     "name": "stdout",
     "output_type": "stream",
     "text": [
      "Enter the first value: 5\n",
      "Enter the second value: 5\n",
      "10.0\n",
      "25.0\n"
     ]
    }
   ],
   "source": [
    "class Calculator():\n",
    "    def Sum(self,x,y):\n",
    "        print(x+y)\n",
    "    def Mull(self,x,y):\n",
    "        print(x*y)\n",
    "\n",
    "x = float(input(\"Enter the first value: \"))\n",
    "y = float(input(\"Enter the second value: \"))\n",
    "       \n",
    "        \n",
    "\n",
    "calc = Calculator()\n",
    "\n",
    "calc.Sum(x,y)\n",
    "calc.Mull(x,y)"
   ]
  },
  {
   "cell_type": "markdown",
   "metadata": {
    "id": "KX9v_nj0ZwX7"
   },
   "source": [
    "###  The sum method return the sum of 2 arguments x and y"
   ]
  },
  {
   "cell_type": "code",
   "execution_count": 4,
   "metadata": {},
   "outputs": [
    {
     "name": "stdout",
     "output_type": "stream",
     "text": [
      "Enter the first value: 4\n",
      "Enter the second value: 6\n",
      "10.0\n"
     ]
    }
   ],
   "source": [
    "class Calculator():\n",
    "    def Sum(self,x,y):\n",
    "        print(x+y)\n",
    "        \n",
    "x = float(input(\"Enter the first value: \"))\n",
    "y = float(input(\"Enter the second value: \"))\n",
    "       \n",
    "calc = Calculator()\n",
    "\n",
    "calc.Sum(x,y)"
   ]
  },
  {
   "cell_type": "markdown",
   "metadata": {
    "id": "z-zkBmIzZ1mI"
   },
   "source": [
    "### The mull method return the multiplication of the arguments x and y"
   ]
  },
  {
   "cell_type": "code",
   "execution_count": 5,
   "metadata": {},
   "outputs": [
    {
     "name": "stdout",
     "output_type": "stream",
     "text": [
      "Enter the first value: 8\n",
      "Enter the second value: 3\n",
      "24.0\n"
     ]
    }
   ],
   "source": [
    "class Calculator():\n",
    "    def Mull(self,x,y):\n",
    "        print(x*y)\n",
    "        \n",
    "x = float(input(\"Enter the first value: \"))\n",
    "y = float(input(\"Enter the second value: \"))\n",
    "       \n",
    "\n",
    "calc = Calculator()\n",
    "\n",
    "calc.Mull(x,y)"
   ]
  },
  {
   "cell_type": "markdown",
   "metadata": {
    "id": "EvC_D3eHZ3mf"
   },
   "source": [
    "###  Take an object from the class"
   ]
  },
  {
   "cell_type": "code",
   "execution_count": 6,
   "metadata": {},
   "outputs": [],
   "source": [
    "summ = Calculator()"
   ]
  },
  {
   "cell_type": "markdown",
   "metadata": {
    "id": "hY6TnxuoZ9jw"
   },
   "source": [
    "### Explain in few words why we call the self in methods"
   ]
  },
  {
   "cell_type": "code",
   "execution_count": 7,
   "metadata": {},
   "outputs": [],
   "source": [
    "#Tell the IDE or the python program that this method is a part of the calss"
   ]
  },
  {
   "cell_type": "markdown",
   "metadata": {
    "id": "KdsHy2_CZ_d_"
   },
   "source": [
    "### What we mean with OOP 4 Pillars"
   ]
  },
  {
   "cell_type": "code",
   "execution_count": 8,
   "metadata": {},
   "outputs": [],
   "source": [
    "# These are the four reasons why we use oop in coding "
   ]
  },
  {
   "cell_type": "markdown",
   "metadata": {
    "id": "_WkKdEQSaBlt"
   },
   "source": [
    "###  Why we use OOP in our code"
   ]
  },
  {
   "cell_type": "code",
   "execution_count": 9,
   "metadata": {},
   "outputs": [],
   "source": [
    "#(simplify systems, enhance maintainability, scalable and adaptable,\n",
    "# and finally for a better strcture of the code)"
   ]
  },
  {
   "cell_type": "markdown",
   "metadata": {
    "id": "IdJYRpDlaEca"
   },
   "source": [
    "### Create a new class names SciCalc with 3 methods , sum , mull , power all of them takes 2 argument x, y"
   ]
  },
  {
   "cell_type": "code",
   "execution_count": 10,
   "metadata": {},
   "outputs": [
    {
     "name": "stdout",
     "output_type": "stream",
     "text": [
      "Enter the first value: 2\n",
      "Enter the second value: 3\n",
      "8.0\n"
     ]
    }
   ],
   "source": [
    "class SciCalc():\n",
    "    def Sum(self,x,y):\n",
    "        print(x+y)\n",
    "    def Mull(self,x,y):\n",
    "        print(x*y)\n",
    "    def Pwr(self,x,y):\n",
    "        print(x**y)\n",
    "\n",
    "x = float(input(\"Enter the first value: \"))\n",
    "y = float(input(\"Enter the second value: \"))\n",
    "       \n",
    "        \n",
    "\n",
    "calc = SciCalc()\n",
    "\n",
    "\n",
    "\n",
    "calc.Pwr(x,y)"
   ]
  },
  {
   "cell_type": "markdown",
   "metadata": {
    "id": "qV1wzT51aHlw"
   },
   "source": [
    "### Sum return the sum of x and y"
   ]
  },
  {
   "cell_type": "code",
   "execution_count": 11,
   "metadata": {},
   "outputs": [
    {
     "name": "stdout",
     "output_type": "stream",
     "text": [
      "Enter the first value: 2\n",
      "Enter the second value: 3\n",
      "5.0\n"
     ]
    }
   ],
   "source": [
    "x = float(input(\"Enter the first value: \"))\n",
    "y = float(input(\"Enter the second value: \"))\n",
    "       \n",
    "calc.Sum(x,y)"
   ]
  },
  {
   "cell_type": "markdown",
   "metadata": {
    "id": "EwdGJ1KVaJ9W"
   },
   "source": [
    "###  Mull return the multiplication of x and y"
   ]
  },
  {
   "cell_type": "code",
   "execution_count": 12,
   "metadata": {},
   "outputs": [
    {
     "name": "stdout",
     "output_type": "stream",
     "text": [
      "Enter the first value: 2\n",
      "Enter the second value: 3\n",
      "6.0\n"
     ]
    }
   ],
   "source": [
    "x = float(input(\"Enter the first value: \"))\n",
    "y = float(input(\"Enter the second value: \"))\n",
    "       \n",
    "calc.Mull(x,y)"
   ]
  },
  {
   "cell_type": "markdown",
   "metadata": {
    "id": "aNNs5VAzaVZx"
   },
   "source": [
    "### Inherit from the Calc class , now remove the unneeded code the the SciCalc after inheriting\n"
   ]
  },
  {
   "cell_type": "code",
   "execution_count": 13,
   "metadata": {},
   "outputs": [
    {
     "name": "stdout",
     "output_type": "stream",
     "text": [
      "Enter the first value: 2\n",
      "Enter the second value: 3\n",
      "5.0\n"
     ]
    }
   ],
   "source": [
    "class SciCalc():\n",
    "    def Sum(self,x,y):\n",
    "        print(x+y)\n",
    "\n",
    "class Calc(SciCalc):\n",
    "    def Mull(self,x,y):\n",
    "        print(x*y)\n",
    "    def Pwr(self,x,y):\n",
    "        print(x**y)\n",
    "\n",
    "x = float(input(\"Enter the first value: \"))\n",
    "y = float(input(\"Enter the second value: \"))\n",
    "       \n",
    "        \n",
    "\n",
    "calc = Calc()\n",
    "calc.Sum(x,y)"
   ]
  },
  {
   "cell_type": "markdown",
   "metadata": {
    "id": "BkMXbHfMaf5S"
   },
   "source": [
    "### Explain in few words what happened after inheriting"
   ]
  },
  {
   "cell_type": "code",
   "execution_count": 14,
   "metadata": {},
   "outputs": [],
   "source": [
    "# Much less as the word itself inheritince means that the inhertee class\n",
    "# has and can use anything in the inhertied class but the opposite \n",
    "# is not true"
   ]
  }
 ],
 "metadata": {
  "colab": {
   "private_outputs": true,
   "provenance": []
  },
  "kernelspec": {
   "display_name": "Python 3 (ipykernel)",
   "language": "python",
   "name": "python3"
  },
  "language_info": {
   "codemirror_mode": {
    "name": "ipython",
    "version": 3
   },
   "file_extension": ".py",
   "mimetype": "text/x-python",
   "name": "python",
   "nbconvert_exporter": "python",
   "pygments_lexer": "ipython3",
   "version": "3.11.5"
  }
 },
 "nbformat": 4,
 "nbformat_minor": 1
}
