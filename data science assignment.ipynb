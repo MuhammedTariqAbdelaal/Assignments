{
 "cells": [
  {
   "cell_type": "code",
   "execution_count": 1,
   "id": "598c74cf",
   "metadata": {},
   "outputs": [],
   "source": [
    "import numpy as np"
   ]
  },
  {
   "cell_type": "code",
   "execution_count": 2,
   "id": "94bab771",
   "metadata": {},
   "outputs": [
    {
     "name": "stdout",
     "output_type": "stream",
     "text": [
      "True\n",
      "False\n"
     ]
    }
   ],
   "source": [
    "aar1 = ([1,2,3,4,5,6,7])\n",
    "aar11 = ([0,1,2,3,4,5,6,7])\n",
    "print(np.all(aar1))\n",
    "print(np.all(aar11))"
   ]
  },
  {
   "cell_type": "code",
   "execution_count": 3,
   "id": "cf3ef485",
   "metadata": {},
   "outputs": [
    {
     "name": "stdout",
     "output_type": "stream",
     "text": [
      "True\n",
      "True\n"
     ]
    }
   ],
   "source": [
    "aar2 = ([1,2,3,4,5,6,7])\n",
    "aar21 = ([0,1,2,3,4,5,6,7])\n",
    "print(np.any(aar2))\n",
    "print(np.any(aar21))"
   ]
  },
  {
   "cell_type": "code",
   "execution_count": 4,
   "id": "031e05c4",
   "metadata": {},
   "outputs": [
    {
     "name": "stdout",
     "output_type": "stream",
     "text": [
      "[False  True  True  True  True  True  True  True]\n",
      "True\n"
     ]
    }
   ],
   "source": [
    "aar3 = ([10.0001,1,2,3,4,5,6,7])\n",
    "aar31 = ([10,1,2,3,4,5,6,7])\n",
    "\n",
    "print(np.equal(aar3, aar31))\n",
    "print(np.allclose(aar3, aar31))"
   ]
  },
  {
   "cell_type": "code",
   "execution_count": 5,
   "id": "f2ff6c9e",
   "metadata": {},
   "outputs": [
    {
     "data": {
      "text/plain": [
       "array([0, 0, 0, 0, 0, 0, 0, 0, 0, 0, 1, 1, 1, 1, 1, 1, 1, 1, 1, 1, 5, 5,\n",
       "       5, 5, 5, 5, 5, 5, 5, 5])"
      ]
     },
     "execution_count": 5,
     "metadata": {},
     "output_type": "execute_result"
    }
   ],
   "source": [
    "aar4 = np.arange(30)\n",
    "aar4[0:10] = 0\n",
    "aar4[10:20] = 1\n",
    "aar4[20:] = 5\n",
    "aar4"
   ]
  },
  {
   "cell_type": "code",
   "execution_count": 6,
   "id": "75e17497",
   "metadata": {},
   "outputs": [
    {
     "data": {
      "text/plain": [
       "array([30, 31, 32, 33, 34, 35, 36, 37, 38, 39, 40, 41, 42, 43, 44, 45, 46,\n",
       "       47, 48, 49, 50, 51, 52, 53, 54, 55, 56, 57, 58, 59, 60, 61, 62, 63,\n",
       "       64, 65, 66, 67, 68, 69, 70])"
      ]
     },
     "execution_count": 6,
     "metadata": {},
     "output_type": "execute_result"
    }
   ],
   "source": [
    "arr5 = np.arange(30,71)\n",
    "arr5"
   ]
  },
  {
   "cell_type": "code",
   "execution_count": 7,
   "id": "a5fadade",
   "metadata": {},
   "outputs": [
    {
     "data": {
      "text/plain": [
       "array([[1., 0., 0.],\n",
       "       [0., 1., 0.],\n",
       "       [0., 0., 1.]])"
      ]
     },
     "execution_count": 7,
     "metadata": {},
     "output_type": "execute_result"
    }
   ],
   "source": [
    "aar6 = np.identity(3)\n",
    "aar6"
   ]
  },
  {
   "cell_type": "code",
   "execution_count": 8,
   "id": "7e5e6cd7",
   "metadata": {},
   "outputs": [
    {
     "data": {
      "text/plain": [
       "array([0.84793465])"
      ]
     },
     "execution_count": 8,
     "metadata": {},
     "output_type": "execute_result"
    }
   ],
   "source": [
    "aar7 = np.random.rand(1)\n",
    "aar7"
   ]
  },
  {
   "cell_type": "code",
   "execution_count": 9,
   "id": "ef2feb0e",
   "metadata": {},
   "outputs": [
    {
     "data": {
      "text/plain": [
       "array([-0.27270575,  0.46009621, -0.19082394, -0.73580435, -0.55757141,\n",
       "        3.80518544,  1.1243275 , -1.25237844,  0.32001021, -0.2638559 ,\n",
       "       -1.3780148 ,  0.27465159,  0.70649193, -0.34912969, -0.24402772])"
      ]
     },
     "execution_count": 9,
     "metadata": {},
     "output_type": "execute_result"
    }
   ],
   "source": [
    "aar8 = np.random.normal(size = 15)\n",
    "aar8"
   ]
  },
  {
   "cell_type": "code",
   "execution_count": 10,
   "id": "fbc86483",
   "metadata": {},
   "outputs": [
    {
     "data": {
      "text/plain": [
       "array([16, 17, 18, 19, 20, 21, 22, 23, 24, 25, 26, 27, 28, 29, 30, 31, 32,\n",
       "       33, 34, 35, 36, 37, 38, 39, 40, 41, 42, 43, 44, 45, 46, 47, 48, 49,\n",
       "       50, 51, 52, 53, 54])"
      ]
     },
     "execution_count": 10,
     "metadata": {},
     "output_type": "execute_result"
    }
   ],
   "source": [
    "aar9 = np.arange(15,56)\n",
    "aar9[1:-1]"
   ]
  },
  {
   "cell_type": "code",
   "execution_count": 11,
   "id": "270908b9",
   "metadata": {},
   "outputs": [
    {
     "data": {
      "text/plain": [
       "array([8, 6, 6, 5, 2])"
      ]
     },
     "execution_count": 11,
     "metadata": {},
     "output_type": "execute_result"
    }
   ],
   "source": [
    "aar10 = np.random.randint(0,10,5)\n",
    "aar10"
   ]
  },
  {
   "cell_type": "code",
   "execution_count": 12,
   "id": "f387c5dc",
   "metadata": {},
   "outputs": [
    {
     "name": "stdout",
     "output_type": "stream",
     "text": [
      "(10, 10)\n"
     ]
    },
    {
     "data": {
      "text/plain": [
       "array([[1., 1., 1., 1., 1., 1., 1., 1., 1., 1.],\n",
       "       [1., 0., 0., 0., 0., 0., 0., 0., 0., 1.],\n",
       "       [1., 0., 0., 0., 0., 0., 0., 0., 0., 1.],\n",
       "       [1., 0., 0., 0., 0., 0., 0., 0., 0., 1.],\n",
       "       [1., 0., 0., 0., 0., 0., 0., 0., 0., 1.],\n",
       "       [1., 0., 0., 0., 0., 0., 0., 0., 0., 1.],\n",
       "       [1., 0., 0., 0., 0., 0., 0., 0., 0., 1.],\n",
       "       [1., 0., 0., 0., 0., 0., 0., 0., 0., 1.],\n",
       "       [1., 0., 0., 0., 0., 0., 0., 0., 0., 1.],\n",
       "       [1., 1., 1., 1., 1., 1., 1., 1., 1., 1.]])"
      ]
     },
     "execution_count": 12,
     "metadata": {},
     "output_type": "execute_result"
    }
   ],
   "source": [
    "aar110 = np.zeros((8,8))\n",
    "aar111 = np.ones(8)\n",
    "aar112 = np.vstack((aar111, aar110))\n",
    "aar113 = np.vstack((aar112, aar111))\n",
    "aar114 = np.ones(10)\n",
    "aar115 = aar114.reshape(10,1)\n",
    "aar116 = np.hstack((aar115, aar113))\n",
    "aar117 = np.hstack((aar116, aar115))\n",
    "aar11 =aar117\n",
    "print(aar11.shape)\n",
    "aar11"
   ]
  },
  {
   "cell_type": "code",
   "execution_count": 13,
   "id": "934b4590",
   "metadata": {
    "scrolled": true
   },
   "outputs": [
    {
     "data": {
      "text/plain": [
       "array([[1, 0, 0, 0, 0],\n",
       "       [0, 2, 0, 0, 0],\n",
       "       [0, 0, 3, 0, 0],\n",
       "       [0, 0, 0, 4, 0],\n",
       "       [0, 0, 0, 0, 5]])"
      ]
     },
     "execution_count": 13,
     "metadata": {},
     "output_type": "execute_result"
    }
   ],
   "source": [
    "aar12 = np.diag([1, 2, 3, 4, 5])\n",
    "aar12"
   ]
  },
  {
   "cell_type": "code",
   "execution_count": 14,
   "id": "76ea67ab",
   "metadata": {
    "scrolled": true
   },
   "outputs": [
    {
     "data": {
      "text/plain": [
       "array([[0., 1., 0., 1.],\n",
       "       [1., 0., 1., 0.],\n",
       "       [0., 1., 0., 1.],\n",
       "       [1., 0., 1., 0.]])"
      ]
     },
     "execution_count": 14,
     "metadata": {},
     "output_type": "execute_result"
    }
   ],
   "source": [
    "aar13 = np.zeros((4,4))\n",
    "aar13[::2,1::2]=1\n",
    "aar13[1::2,::2]=1\n",
    "aar13"
   ]
  },
  {
   "cell_type": "code",
   "execution_count": 15,
   "id": "88dcaccf",
   "metadata": {},
   "outputs": [
    {
     "name": "stdout",
     "output_type": "stream",
     "text": [
      "[0 1 2 3 4] [6 7 8 9]\n"
     ]
    }
   ],
   "source": [
    "import os\n",
    "aar140 = np.arange(5)\n",
    "aar141 = np.arange(6,10)\n",
    "np.savez(\"npz.npz\", x=aar140, y=aar141)\n",
    "with np.load('npz.npz') as data:\n",
    "    new140 = data[\"x\"]\n",
    "    new141 = data[\"y\"]\n",
    "print(new140, new141)"
   ]
  },
  {
   "cell_type": "code",
   "execution_count": 16,
   "id": "79035d37",
   "metadata": {},
   "outputs": [
    {
     "data": {
      "text/plain": [
       "array([0.49745691, 0.03997093, 0.71008653, 0.67945139, 0.84610169,\n",
       "       0.70439676, 0.52147775, 0.06334343, 0.68057041, 0.0650754 ,\n",
       "       0.22026362, 0.69471139, 0.50158267, 0.82173968, 0.90712416,\n",
       "       0.28273057, 0.35170499, 0.68994585, 0.57774541, 0.65463029,\n",
       "       0.34335159, 0.13823734, 0.09689591, 0.06675072, 0.46682351,\n",
       "       0.53418813, 0.22765754, 0.12602118, 0.57045247, 0.41143571,\n",
       "       0.69148033, 0.91592452, 0.20624318, 0.2742809 , 0.44808079,\n",
       "       0.56172069, 0.18275671, 0.97734257, 0.54701052, 0.90081584])"
      ]
     },
     "execution_count": 16,
     "metadata": {},
     "output_type": "execute_result"
    }
   ],
   "source": [
    "aar15 = np.random.rand(40)\n",
    "aar15"
   ]
  },
  {
   "cell_type": "code",
   "execution_count": 17,
   "id": "9ccb0213",
   "metadata": {},
   "outputs": [
    {
     "data": {
      "text/plain": [
       "array([26, 27, 28, 29, 30, 31, 32, 33, 34, 35, 36, 37, 38, 39, 40, 41, 42,\n",
       "       43, 44, 45, 46, 47, 48, 49, 50, 51, 52, 53, 54, 55])"
      ]
     },
     "execution_count": 17,
     "metadata": {},
     "output_type": "execute_result"
    }
   ],
   "source": [
    "aar16 = aar9\n",
    "aar16[aar16>25]"
   ]
  }
 ],
 "metadata": {
  "kernelspec": {
   "display_name": "Python 3 (ipykernel)",
   "language": "python",
   "name": "python3"
  },
  "language_info": {
   "codemirror_mode": {
    "name": "ipython",
    "version": 3
   },
   "file_extension": ".py",
   "mimetype": "text/x-python",
   "name": "python",
   "nbconvert_exporter": "python",
   "pygments_lexer": "ipython3",
   "version": "3.11.5"
  }
 },
 "nbformat": 4,
 "nbformat_minor": 5
}
